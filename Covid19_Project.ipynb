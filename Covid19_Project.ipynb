{
 "cells": [
  {
   "cell_type": "markdown",
   "metadata": {
    "id": "JRpgu1zUwoYL"
   },
   "source": [
    "# PYTHON 資料科學期末專題\n",
    "\n",
    "# [提示]\n",
    "\n",
    "1. 用Pandas讀入時有時需要注意encoding參數\n",
    "   \n",
    "   1.1利用dataframe 去 Creating new feature \"Active_case\"; Active_case = Confirmed - Deaths – Recovered\n",
    "   \n",
    "   1.2 需要注意異常值與缺失值的處理, 注意資料區間, 評估值區間差異過大的問題\n",
    "   \n",
    "   1.3 資料的分類, 以期可以分別繪製比對圖形; 繪製出交互作用的地圖\n",
    "\n",
    "# [基本目標]\n",
    "\n",
    "1. 繪製出全球的感染與康復人數, 以國家別區分 \n",
    "\n",
    "2. 利用地理資訊圖表繪製出全球的感染與康復人數\n"
   ]
  },
  {
   "cell_type": "markdown",
   "metadata": {
    "id": "CBwFGIXNwoYO"
   },
   "source": [
    "# 參考範例\n",
    "\n",
    "同學可以參照範例執行, 有問題隨時提問\n",
    "\n"
   ]
  },
  {
   "cell_type": "markdown",
   "metadata": {
    "id": "os7Q_fnNwoYO"
   },
   "source": [
    "# <font color='red'> Table of contents </font>\n",
    "1. <a href='#word'>**Covid-19 - In the world**</a>\n",
    "\n",
    "1. <a href='#chi'>**Coronavirus in China**</a>\n",
    "\n",
    "1. <a href='#us'>**Coronavirus in US**</a>\n"
   ]
  },
  {
   "cell_type": "code",
   "execution_count": null,
   "metadata": {
    "_cell_guid": "b1076dfc-b9ad-4769-8c92-a6c4dae69d19",
    "_kg_hide-input": true,
    "_uuid": "8f2839f25d086af736a60e9eeb907d3b93b6e0e5",
    "id": "77i5V5hAwoYQ"
   },
   "outputs": [],
   "source": [
    "# 載入所需要的套件\n",
    "\n",
    "import numpy as np \n",
    "import pandas as pd \n",
    "import matplotlib.pyplot as plt\n",
    "import plotly.graph_objects as go\n",
    "import plotly.express as px\n",
    "pd.set_option('display.max_rows', None)\n",
    "from plotly.subplots import make_subplots\n",
    "import seaborn as sns\n",
    "import datetime"
   ]
  },
  {
   "cell_type": "markdown",
   "metadata": {
    "id": "qAXfbsV_woYQ"
   },
   "source": [
    "# 進行資料讀入, 檢視與前處理"
   ]
  },
  {
   "cell_type": "code",
   "execution_count": null,
   "metadata": {
    "_kg_hide-input": true,
    "id": "br22cQ6cwoYR"
   },
   "outputs": [],
   "source": [
    "# 利用 PANDAS 讀入DATA\n",
    "\n",
    "data = pd.read_csv('covid_19_data.csv')"
   ]
  },
  {
   "cell_type": "code",
   "execution_count": null,
   "metadata": {
    "id": "ErTGCjtFwoYR",
    "outputId": "a77ab424-756c-4985-b43c-b6b52a168c44"
   },
   "outputs": [],
   "source": [
    "# 檢視資料集\n",
    "data.info()"
   ]
  },
  {
   "cell_type": "code",
   "execution_count": null,
   "metadata": {
    "_kg_hide-input": true,
    "id": "zkt5_QAAwoYT",
    "outputId": "743c09d7-7628-45d9-a87b-af86b03d4270"
   },
   "outputs": [],
   "source": [
    "# 缺失值處理\n",
    "#Percentage of NAN Values, 計算缺失值在資料內的比例\n",
    "NAN = [(c, data[c].isna().mean()*100) for c in data]\n",
    "NAN = pd.DataFrame(NAN, columns=[\"column_name\", \"percentage\"])\n",
    "NAN"
   ]
  },
  {
   "cell_type": "code",
   "execution_count": null,
   "metadata": {
    "_kg_hide-input": true,
    "id": "MWe1du4swoYU"
   },
   "outputs": [],
   "source": [
    "# 34 % of Province/State are unknown, 所以我們要把 NAN 的值替換成 Unknown.\n",
    "\n",
    "data[\"Province/State\"]= data[\"Province/State\"].fillna('Unknown')\n"
   ]
  },
  {
   "cell_type": "code",
   "execution_count": null,
   "metadata": {
    "_kg_hide-input": true,
    "id": "K3_LeCU2woYW",
    "outputId": "2916fddd-dc85-4bce-b38d-5bb87ebdc9f3"
   },
   "outputs": [],
   "source": [
    "#查看資料\n",
    "data.head()"
   ]
  },
  {
   "cell_type": "code",
   "execution_count": null,
   "metadata": {
    "_kg_hide-input": true,
    "id": "5HIJN0dBwoYX"
   },
   "outputs": [],
   "source": [
    "# 資料型別轉換, 利於 ARRAY\n",
    "# 把下列資料換成 INT 整數型別 : \"Confirmed\",\"Deaths\" and \"Recovered\" \n",
    "\n",
    "data[[\"Confirmed\",\"Deaths\",\"Recovered\"]] =data[[\"Confirmed\",\"Deaths\",\"Recovered\"]].astype(int)"
   ]
  },
  {
   "cell_type": "code",
   "execution_count": null,
   "metadata": {
    "_kg_hide-input": true,
    "id": "7p13WLHvwoYX"
   },
   "outputs": [],
   "source": [
    "# 為了識別簡易, 把 \"Mainland China\" 用 \"China\" 替代\n",
    "\n",
    "data['Country/Region'] = data['Country/Region'].replace('Mainland China', 'China')"
   ]
  },
  {
   "cell_type": "code",
   "execution_count": null,
   "metadata": {
    "_kg_hide-input": true,
    "id": "TARLz6eHwoYX",
    "outputId": "77c55a59-0044-4342-be66-a37a0624f033"
   },
   "outputs": [],
   "source": [
    "# 原始資料集並無感染的欄位, 利用資料處理新增一項目 \"Active_case\"\n",
    "# Active_case = Confirmed - Deaths - Recovered\n",
    "\n",
    "data['Active_case'] = data['Confirmed'] - data['Deaths'] - data['Recovered']\n",
    "data.head()"
   ]
  },
  {
   "cell_type": "code",
   "execution_count": null,
   "metadata": {
    "_kg_hide-input": true,
    "id": "8lS2hZuWwoYY",
    "outputId": "fb50e947-39b6-40c4-fd09-3389b188de75"
   },
   "outputs": [],
   "source": [
    "# 更新INDEX\n",
    "\n",
    "Data = data[data['ObservationDate'] == max(data['ObservationDate'])].reset_index()\n",
    "data.head()"
   ]
  },
  {
   "cell_type": "markdown",
   "metadata": {
    "id": "Lr_7BHe6woYZ"
   },
   "source": [
    "# 開始使用資料視覺化顯示結果"
   ]
  },
  {
   "cell_type": "markdown",
   "metadata": {
    "id": "yFb71UKvwoYZ"
   },
   "source": [
    "\n",
    "<a id='word'></a>\n",
    "#  <font color='red'> **Covid-19 - In the world** </font>"
   ]
  },
  {
   "cell_type": "code",
   "execution_count": null,
   "metadata": {
    "_kg_hide-input": true,
    "id": "tevTSZfMwoYZ"
   },
   "outputs": [],
   "source": [
    "# 整理資料\n",
    "Data_world = Data.groupby([\"ObservationDate\"])[[\"Confirmed\",\"Active_case\",\"Recovered\",\"Deaths\"]].sum().reset_index()"
   ]
  },
  {
   "cell_type": "code",
   "execution_count": null,
   "metadata": {
    "_kg_hide-input": true,
    "id": "WI0tM6DkwoYa",
    "outputId": "1b802bad-f55c-4f5e-ed02-2f890308c9b3"
   },
   "outputs": [],
   "source": [
    "labels = [\"Last Update\",\"Confirmed\",\"Active cases\",\"Recovered\",\"Deaths\"]\n",
    "fig = go.Figure(data=[go.Table(header=dict(values=labels),\n",
    "                 cells=dict(values=Data_world.loc[0,[\"ObservationDate\",\"Confirmed\",\"Active_case\",\"Recovered\",\"Deaths\"]]))\n",
    "                     ])\n",
    "fig.update_layout(\n",
    "    title='Coronavirus in the word : ',\n",
    ")\n",
    "fig.show()\n"
   ]
  },
  {
   "cell_type": "code",
   "execution_count": null,
   "metadata": {
    "_kg_hide-input": true,
    "id": "qO_cUQgrwoYm",
    "outputId": "8ef9bb60-8f98-41f7-f915-7e3d503bb1ea"
   },
   "outputs": [],
   "source": [
    "# 繪製圓餅圖\n",
    "labels = [\"Active cases\",\"Recovered\",\"Deaths\"]\n",
    "#計算數字\n",
    "values = Data_world.loc[0, [\"Active_case\",\"Recovered\",\"Deaths\"]]\n",
    "fig = px.pie(Data_world, values=values, names=labels,color_discrete_sequence=['rgb(77,146,33)','rgb(69,144,185)','rgb(77,77,77)'],hole=0.7)\n",
    "fig.update_layout(\n",
    "    title='Total cases : '+str(Data_world[\"Confirmed\"][0]),\n",
    ")\n",
    "fig.show()"
   ]
  },
  {
   "cell_type": "code",
   "execution_count": null,
   "metadata": {
    "_kg_hide-input": true,
    "id": "WRJgSJggwoYn"
   },
   "outputs": [],
   "source": [
    "# Evolution of coronavirus over time\n",
    "data_over_time= data.groupby([\"ObservationDate\"])[[\"Confirmed\",\"Active_case\",\"Recovered\",\"Deaths\"]].sum().reset_index().sort_values(\"ObservationDate\",ascending=True).reset_index(drop=True)\n",
    "\n"
   ]
  },
  {
   "cell_type": "code",
   "execution_count": null,
   "metadata": {
    "_kg_hide-input": true,
    "id": "R0F0KQwAwoYn"
   },
   "outputs": [],
   "source": [
    "fig = go.Figure()\n",
    "fig.add_trace(go.Scatter(x=data_over_time.index, y=data_over_time['Confirmed'],\n",
    "                    mode='lines',\n",
    "                    name='Confirmed cases'))\n",
    "\n",
    "\n",
    "fig.update_layout(\n",
    "    title='Evolution of Confirmed cases over time in the word',\n",
    "        template='plotly_white',\n",
    "      yaxis_title=\"Confirmed cases\",\n",
    "    xaxis_title=\"Days\",\n",
    "\n",
    ")\n",
    "\n",
    "fig.show()"
   ]
  },
  {
   "cell_type": "code",
   "execution_count": null,
   "metadata": {
    "_kg_hide-input": true,
    "id": "6bjtNuIKwoYo",
    "outputId": "96d8fdd8-bbe1-4e2a-f44e-b1f1bade1abc"
   },
   "outputs": [],
   "source": [
    "fig = go.Figure()\n",
    "\n",
    "\n",
    "fig.add_trace(go.Scatter(x=data_over_time.index, y=data_over_time['Active_case'],\n",
    "                    mode='lines',marker_color='yellow',\n",
    "                    name='Active cases',line=dict( dash='dot')))\n",
    "\n",
    "fig.update_layout(\n",
    "    title='Evolution of Active cases over time in the world',\n",
    "        template='plotly_dark',\n",
    "      yaxis_title=\"Active cases\",\n",
    "    xaxis_title=\"Days\",\n",
    "\n",
    ")\n",
    "\n",
    "fig.show()\n",
    "\n"
   ]
  },
  {
   "cell_type": "code",
   "execution_count": null,
   "metadata": {
    "_kg_hide-input": true,
    "id": "vNARrFMpwoYp",
    "outputId": "40cf7f2a-a882-4433-d8a3-833310725b4e"
   },
   "outputs": [],
   "source": [
    "fig = go.Figure()\n",
    "\n",
    "fig.add_trace(go.Scatter(x=data_over_time.index, y=data_over_time['Recovered'],\n",
    "                    mode='lines',\n",
    "                    name='Recovered cases',marker_color='green'))\n",
    "\n",
    "fig.update_layout(\n",
    "    title='Evolution of Recovered cases over time in the world',\n",
    "        template='plotly_white',\n",
    "      yaxis_title=\"Recovered cases\",\n",
    "    xaxis_title=\"Days\",\n",
    "\n",
    ")\n",
    "\n",
    "fig.show()\n",
    "\n"
   ]
  },
  {
   "cell_type": "code",
   "execution_count": null,
   "metadata": {
    "_kg_hide-input": true,
    "id": "zOvYbmTOwoYp",
    "outputId": "86075d74-2ee7-4742-b2c3-20da646b64d4"
   },
   "outputs": [],
   "source": [
    "\n",
    "fig = go.Figure()\n",
    "\n",
    "fig.add_trace(go.Scatter(x=data_over_time.index, y=data_over_time['Deaths'],name='Deaths',\n",
    "                                   marker_color='black',mode='lines',line=dict( dash='dot') ))\n",
    "\n",
    "fig.update_layout(\n",
    "    title='Evolution of Deaths over time in the world',\n",
    "        template='plotly_white',\n",
    "     yaxis_title=\"Deaths\",\n",
    "    xaxis_title=\"Days\",\n",
    "\n",
    ")\n",
    "\n",
    "fig.show()"
   ]
  },
  {
   "cell_type": "code",
   "execution_count": null,
   "metadata": {
    "_kg_hide-input": true,
    "id": "Z-vAlTuRwoYq",
    "outputId": "ddcc252f-34f0-4aa1-f36d-31e31679e18b"
   },
   "outputs": [],
   "source": [
    "\n",
    "fig = go.Figure(go.Bar(\n",
    "            x=data_over_time['ObservationDate'],\n",
    "            y=data_over_time['Confirmed'],\n",
    "           ))\n",
    "fig.update_layout(\n",
    "    title='Confirmed Cases In Each Day',\n",
    "    template='plotly_white',\n",
    "     xaxis_title=\"Confirmed Cases\",\n",
    "    yaxis_title=\"Days\",\n",
    ")\n",
    "fig.show()"
   ]
  },
  {
   "cell_type": "code",
   "execution_count": null,
   "metadata": {
    "_kg_hide-input": true,
    "id": "FTQcOADbwoYr",
    "outputId": "1d0e17b4-9b04-45f8-ba6a-e08aebf5c727"
   },
   "outputs": [],
   "source": [
    "fig = go.Figure(go.Bar(\n",
    "            x=data_over_time['ObservationDate'],\n",
    "            y=data_over_time['Active_case'],\n",
    "    marker_color='rgb(253,187,132)'\n",
    "           ))\n",
    "fig.update_layout(\n",
    "    title='Active Cases In Each Day',\n",
    "    template='plotly_dark',\n",
    "     xaxis_title=\"Active Cases\",\n",
    "    yaxis_title=\"Days\",\n",
    ")\n",
    "fig.show()"
   ]
  },
  {
   "cell_type": "code",
   "execution_count": null,
   "metadata": {
    "_kg_hide-input": true,
    "id": "EdfbyNcnwoYs",
    "outputId": "7aecdbb9-14ed-4cf8-a736-6c0a489e45e0"
   },
   "outputs": [],
   "source": [
    "fig = go.Figure(go.Bar(\n",
    "            x=data_over_time['ObservationDate'],\n",
    "            y=data_over_time['Recovered'],\n",
    "    marker_color='rgb(178,24,43)'\n",
    "           ))\n",
    "fig.update_layout(\n",
    "    title='Recovered Cases In Each Day',\n",
    "    template='plotly_white',\n",
    "     xaxis_title=\"Recovered Cases\",\n",
    "    yaxis_title=\"Days\",\n",
    ")\n",
    "fig.show()"
   ]
  },
  {
   "cell_type": "code",
   "execution_count": null,
   "metadata": {
    "_kg_hide-input": true,
    "id": "ilJ5YC0CwoYs",
    "outputId": "a04d65a2-2e71-4ce4-a271-16b40052775e"
   },
   "outputs": [],
   "source": [
    "fig = go.Figure(go.Bar(\n",
    "            x=data_over_time['ObservationDate'],\n",
    "            y=data_over_time['Deaths'],\n",
    "    marker_color='rgb(13,48,100)'\n",
    "           ))\n",
    "fig.update_layout(\n",
    "    title='Deaths In Each Day',\n",
    "    template='plotly_white',\n",
    "     xaxis_title=\"Deaths\",\n",
    "    yaxis_title=\"Days\",\n",
    ")\n",
    "fig.show()"
   ]
  },
  {
   "cell_type": "markdown",
   "metadata": {
    "id": "1Qx87I18woYt"
   },
   "source": [
    " **Confirmed cases in each Country**"
   ]
  },
  {
   "cell_type": "code",
   "execution_count": null,
   "metadata": {
    "_kg_hide-input": true,
    "id": "syJO38WbwoYt",
    "outputId": "7e4dd2b0-d01a-4703-9a93-dd6da360b469"
   },
   "outputs": [],
   "source": [
    "Data_per_country = Data.groupby([\"Country/Region\"])[\"Confirmed\",\"Active_case\",\"Recovered\",\"Deaths\"].sum().reset_index().sort_values(\"Confirmed\",ascending=False).reset_index(drop=True)\n"
   ]
  },
  {
   "cell_type": "code",
   "execution_count": null,
   "metadata": {
    "_kg_hide-input": true,
    "id": "mEAair7SwoYu",
    "outputId": "7d977318-123f-4990-c0d7-98eede9c83fa"
   },
   "outputs": [],
   "source": [
    "headerColor = 'grey'\n",
    "rowEvenColor = 'lightgrey'\n",
    "rowOddColor = 'white'\n",
    "\n",
    "fig = go.Figure(data=[go.Table(\n",
    "  header=dict(\n",
    "    values=['<b>Country</b>','<b>Confirmed Cases</b>'],\n",
    "    line_color='darkslategray',\n",
    "    fill_color=headerColor,\n",
    "    align=['left','center'],\n",
    "      \n",
    "    font=dict(color='white', size=12)\n",
    "  ),\n",
    "  cells=dict(\n",
    "    values=[\n",
    "      Data_per_country['Country/Region'],\n",
    "      Data_per_country['Confirmed'],\n",
    "      ],\n",
    "    line_color='darkslategray',\n",
    "    # 2-D list of colors for alternating rows\n",
    "    fill_color = [[rowOddColor,rowEvenColor,rowOddColor, rowEvenColor,rowOddColor]*len(Data_per_country)],\n",
    "    align = ['left', 'center'],\n",
    "    font = dict(color = 'darkslategray', size = 11)\n",
    "    ))\n",
    "])\n",
    "fig.update_layout(\n",
    "    title='Confirmed Cases In Each Country',\n",
    ")\n",
    "fig.show()"
   ]
  },
  {
   "cell_type": "code",
   "execution_count": null,
   "metadata": {
    "_kg_hide-input": true,
    "id": "3tMT8GqIwoYu",
    "outputId": "9e145983-1671-4394-ad6a-00807c6663fe"
   },
   "outputs": [],
   "source": [
    "\n",
    "fig = go.Figure(go.Bar(\n",
    "            x=Data_per_country['Confirmed'],\n",
    "            y=Data_per_country['Country/Region'],\n",
    "            orientation='h'))\n",
    "fig.update_layout(\n",
    "    title='Confirmed Cases In Each Country',\n",
    "    template='plotly_white',\n",
    "     xaxis_title=\"Confirmed Cases\",\n",
    "    yaxis_title=\"Countries\",\n",
    ")\n",
    "fig.show()"
   ]
  },
  {
   "cell_type": "code",
   "execution_count": null,
   "metadata": {
    "_kg_hide-input": true,
    "id": "GRPQXx5bwoYy",
    "outputId": "751313cf-b85c-4e46-bce3-95fc69bc76d0"
   },
   "outputs": [],
   "source": [
    "fig = go.Figure(go.Bar(\n",
    "            x=Data_per_country['Active_case'],\n",
    "            y=Data_per_country['Country/Region'],\n",
    "            orientation='h',\n",
    "            marker_color='#DC3912',))\n",
    "fig.update_layout(\n",
    "    title='Active Cases In Each Country',\n",
    "    template='plotly_white',\n",
    "    xaxis_title=\"Active Cases\",\n",
    "    yaxis_title=\"Countries\",\n",
    ")\n",
    "fig.show()"
   ]
  },
  {
   "cell_type": "code",
   "execution_count": null,
   "metadata": {
    "_kg_hide-input": true,
    "id": "XtEB1hdHwoYy",
    "outputId": "4994030a-b80d-4e95-ebb4-97c5c259896e"
   },
   "outputs": [],
   "source": [
    "fig = go.Figure(go.Bar(\n",
    "            x=Data_per_country['Recovered'],\n",
    "            y=Data_per_country['Country/Region'],\n",
    "            orientation='h',\n",
    "            marker_color='#2CA02C',))\n",
    "fig.update_layout(\n",
    "    title='Recovered Cases In Each Country',\n",
    "    template='plotly_white',\n",
    "     xaxis_title=\"Recovered Cases\",\n",
    "    yaxis_title=\"Countries\",\n",
    ")\n",
    "fig.show()"
   ]
  },
  {
   "cell_type": "code",
   "execution_count": null,
   "metadata": {
    "_kg_hide-input": true,
    "id": "woGnyxkmwoYz",
    "outputId": "c3a7948c-9ec6-43ef-9fa4-daacabfcc955"
   },
   "outputs": [],
   "source": [
    "fig = go.Figure(go.Bar(\n",
    "            x=Data_per_country['Deaths'],\n",
    "            y=Data_per_country['Country/Region'],\n",
    "            orientation='h',\n",
    "            marker_color='black',))\n",
    "fig.update_layout(\n",
    "    title='Deaths In Each Country',\n",
    "    template='plotly_white',\n",
    "    xaxis_title=\"Deaths\",\n",
    "    yaxis_title=\"Countries\",\n",
    ")\n",
    "\n",
    "fig.show()"
   ]
  },
  {
   "cell_type": "code",
   "execution_count": null,
   "metadata": {
    "_kg_hide-input": true,
    "id": "w2nk1O1fwoYz",
    "outputId": "c898e184-545d-42a4-f796-a405359dae3f"
   },
   "outputs": [],
   "source": [
    "fig = px.choropleth(Data_per_country, locations=Data_per_country['Country/Region'],\n",
    "                    color=Data_per_country['Confirmed'],locationmode='country names', \n",
    "                    hover_name=Data_per_country['Country/Region'], \n",
    "                    color_continuous_scale=px.colors.sequential.Tealgrn,template='plotly_dark', )\n",
    "fig.update_layout(\n",
    "    title='Confirmed Cases In Each Country',\n",
    ")\n",
    "fig.show()"
   ]
  },
  {
   "cell_type": "code",
   "execution_count": null,
   "metadata": {
    "_kg_hide-input": true,
    "id": "xznUbXKywoY0"
   },
   "outputs": [],
   "source": [
    "fig = px.choropleth(Data_per_country, locations=Data_per_country['Country/Region'],\n",
    "                    color=Data_per_country['Active_case'],locationmode='country names', \n",
    "                    hover_name=Data_per_country['Country/Region'], \n",
    "                    color_continuous_scale=px.colors.sequential.Tealgrn,template='plotly_white', )\n",
    "fig.update_layout(\n",
    "    title='Active Cases In Each Country',\n",
    ")\n",
    "fig.show()"
   ]
  },
  {
   "cell_type": "code",
   "execution_count": null,
   "metadata": {
    "_kg_hide-input": true,
    "id": "xu8wMfO-woY0",
    "outputId": "51929f95-7f00-4614-a513-a4a1607a0e92"
   },
   "outputs": [],
   "source": [
    "fig = px.choropleth(Data_per_country, locations=Data_per_country['Country/Region'],\n",
    "                    color=Data_per_country['Recovered'],locationmode='country names', \n",
    "                    hover_name=Data_per_country['Country/Region'], \n",
    "                    color_continuous_scale=px.colors.sequential.Tealgrn,template='plotly_white', )\n",
    "fig.update_layout(\n",
    "    title='Recovered Cases In Each Country',\n",
    ")\n",
    "fig.show()"
   ]
  },
  {
   "cell_type": "code",
   "execution_count": null,
   "metadata": {
    "_kg_hide-input": true,
    "id": "YvLbEy0pwoY1",
    "outputId": "38d4eb66-22c4-46dd-d5f0-f251de5c3fa7"
   },
   "outputs": [],
   "source": [
    "fig = px.choropleth(Data_per_country, locations=Data_per_country['Country/Region'],\n",
    "                    color=Data_per_country['Deaths'],locationmode='country names', \n",
    "                    hover_name=Data_per_country['Country/Region'], \n",
    "                    color_continuous_scale=px.colors.sequential.Tealgrn,template='plotly_dark', )\n",
    "fig.update_layout(\n",
    "    title='Deaths In Each Country',\n",
    ")\n",
    "fig.show()"
   ]
  },
  {
   "cell_type": "markdown",
   "metadata": {
    "id": "K81-u44FwoY1"
   },
   "source": [
    "Evolution of coronavirus over time."
   ]
  },
  {
   "cell_type": "code",
   "execution_count": null,
   "metadata": {
    "_kg_hide-input": true,
    "id": "dq0UiccNwoY1"
   },
   "outputs": [],
   "source": [
    "data_per_country = data.groupby([\"Country/Region\",\"ObservationDate\"])[[\"Confirmed\",\"Active_case\",\"Recovered\",\"Deaths\"]].sum().reset_index().sort_values(\"ObservationDate\",ascending=True).reset_index(drop=True)\n"
   ]
  },
  {
   "cell_type": "code",
   "execution_count": null,
   "metadata": {
    "_kg_hide-input": true,
    "id": "r_JhrFd8woY1",
    "outputId": "3ed62922-7108-478a-e66f-9fbbb5dfa5b8"
   },
   "outputs": [],
   "source": [
    "fig = px.choropleth(data_per_country, locations=data_per_country['Country/Region'],\n",
    "                    color=data_per_country['Confirmed'],locationmode='country names', \n",
    "                    hover_name=data_per_country['Country/Region'], \n",
    "                    color_continuous_scale=px.colors.sequential.deep,\n",
    "                    animation_frame=\"ObservationDate\")\n",
    "fig.update_layout(\n",
    "\n",
    "    title='Evolution of confirmed cases In Each Country',\n",
    ")\n",
    "fig.show()"
   ]
  },
  {
   "cell_type": "code",
   "execution_count": null,
   "metadata": {
    "_kg_hide-input": true,
    "id": "QqyLH-8zwoY6",
    "outputId": "951301d5-6877-453d-d3fd-ef77fc5b71fe"
   },
   "outputs": [],
   "source": [
    "fig = px.choropleth(data_per_country, locations=data_per_country['Country/Region'],\n",
    "                    color=data_per_country['Active_case'],locationmode='country names', \n",
    "                    hover_name=data_per_country['Country/Region'], \n",
    "                    color_continuous_scale=px.colors.sequential.Tealgrn,\n",
    "                    animation_frame=\"ObservationDate\")\n",
    "fig.update_layout(\n",
    "\n",
    "    title='Evolution of active cases In Each Country',\n",
    "    template='plotly_dark'\n",
    ")\n",
    "fig.show()"
   ]
  },
  {
   "cell_type": "code",
   "execution_count": null,
   "metadata": {
    "_kg_hide-input": true,
    "id": "sOgRaw7iwoY8",
    "outputId": "4ad5df47-c192-4269-ac18-381c36975539"
   },
   "outputs": [],
   "source": [
    "fig = px.choropleth(data_per_country, locations=data_per_country['Country/Region'],\n",
    "                    color=data_per_country['Recovered'],locationmode='country names', \n",
    "                    hover_name=data_per_country['Country/Region'], \n",
    "                    color_continuous_scale=px.colors.sequential.deep,\n",
    "                    animation_frame=\"ObservationDate\")\n",
    "fig.update_layout(\n",
    "    title='Evolution of recovered cases In Each Country',\n",
    ")\n",
    "fig.show()"
   ]
  },
  {
   "cell_type": "code",
   "execution_count": null,
   "metadata": {
    "_kg_hide-input": true,
    "id": "_MYPpeyXwoY9",
    "outputId": "61c706ef-6aea-496d-a91e-537a5a2ff9ca"
   },
   "outputs": [],
   "source": [
    "fig = px.choropleth(data_per_country, locations=data_per_country['Country/Region'],\n",
    "                    color=data_per_country['Deaths'],locationmode='country names', \n",
    "                    hover_name=data_per_country['Country/Region'], \n",
    "                    color_continuous_scale=px.colors.sequential.Tealgrn,\n",
    "                    animation_frame=\"ObservationDate\")\n",
    "fig.update_layout(\n",
    "    title='Evolution of deaths In Each Country',\n",
    "    template='plotly_dark'\n",
    ")\n",
    "fig.show()"
   ]
  },
  {
   "cell_type": "code",
   "execution_count": null,
   "metadata": {
    "_kg_hide-input": true,
    "id": "88diTcJUwoY_",
    "outputId": "be76e553-4de7-463b-9e54-f02b75e3137b"
   },
   "outputs": [],
   "source": [
    "fig = go.Figure(data=[go.Bar(\n",
    "            x=Data_per_country['Country/Region'][0:10], y=Data_per_country['Confirmed'][0:10],\n",
    "            text=Data_per_country['Confirmed'][0:10],\n",
    "            textposition='auto',\n",
    "            marker_color='black',\n",
    "            \n",
    "\n",
    "        )])\n",
    "fig.update_layout(\n",
    "    title='Most 10 infected Countries',\n",
    "    xaxis_title=\"Countries\",\n",
    "    yaxis_title=\"Confirmed Cases\",\n",
    "        template='plotly_white'\n",
    "\n",
    ")\n",
    "fig.show()"
   ]
  },
  {
   "cell_type": "code",
   "execution_count": null,
   "metadata": {
    "_kg_hide-input": true,
    "id": "ydFYHsnwwoZA",
    "outputId": "0fa138ae-199f-44c1-af0d-5beca4eb4844"
   },
   "outputs": [],
   "source": [
    "fig = go.Figure(data=[go.Scatter(\n",
    "    x=Data_per_country['Country/Region'][0:10],\n",
    "    y=Data_per_country['Confirmed'][0:10],\n",
    "    mode='markers',\n",
    "    \n",
    "    marker=dict(\n",
    "        color=100+np.random.randn(500),\n",
    "        size=(Data_per_country['Confirmed'][0:10]/25000),\n",
    "        showscale=True\n",
    "        )\n",
    ")])\n",
    "\n",
    "fig.update_layout(\n",
    "    title='Most 10 infected Countries',\n",
    "    xaxis_title=\"Countries\",\n",
    "    yaxis_title=\"Confirmed Cases\",\n",
    "    template='plotly_dark'\n",
    ")\n",
    "fig.show()"
   ]
  },
  {
   "cell_type": "markdown",
   "metadata": {
    "id": "ag4ofHwJwoZA"
   },
   "source": [
    "* **Lets start with good news :  **\n",
    "**Recorvered cases in each Country **"
   ]
  },
  {
   "cell_type": "code",
   "execution_count": null,
   "metadata": {
    "_kg_hide-input": true,
    "id": "MTk3Sgx2woZB"
   },
   "outputs": [],
   "source": [
    "# *計算恢復數 * *Recorvered cases in each Country *\n",
    "Recovered_per_country = Data.groupby([\"Country/Region\"])[\"Recovered\"].sum().reset_index().sort_values(\"Recovered\",ascending=False).reset_index(drop=True)\n"
   ]
  },
  {
   "cell_type": "code",
   "execution_count": null,
   "metadata": {
    "_kg_hide-input": true,
    "id": "71Kg2qxlwoZB",
    "outputId": "cb624312-db3c-48da-ce08-16358887803e"
   },
   "outputs": [],
   "source": [
    "headerColor = 'grey'\n",
    "rowEvenColor = 'lightgrey'\n",
    "rowOddColor = 'white'\n",
    "\n",
    "fig = go.Figure(data=[go.Table(\n",
    "  header=dict(\n",
    "    values=['<b>Country</b>','<b>Recovered Cases</b>'],\n",
    "    line_color='darkslategray',\n",
    "    fill_color=headerColor,\n",
    "    align=['left','center'],\n",
    "    font=dict(color='white', size=12)\n",
    "  ),\n",
    "  cells=dict(\n",
    "    values=[\n",
    "      Recovered_per_country['Country/Region'],\n",
    "      Recovered_per_country['Recovered'],\n",
    "      ],\n",
    "    line_color='darkslategray',\n",
    "    # 2-D list of colors for alternating rows\n",
    "    fill_color = [[rowOddColor,rowEvenColor,rowOddColor, rowEvenColor,rowOddColor]*len(Data_per_country)],\n",
    "    align = ['left', 'center'],\n",
    "    font = dict(color = 'darkslategray', size = 11)\n",
    "    ))\n",
    "])\n",
    "fig.update_layout(\n",
    "    title='Recovered Cases In Each Country',\n",
    ")\n",
    "fig.show()"
   ]
  },
  {
   "cell_type": "code",
   "execution_count": null,
   "metadata": {
    "_kg_hide-input": true,
    "id": "Ap9KXXK2woZB",
    "outputId": "cafc47ce-d1cb-4d66-cd48-1b5c53805f33"
   },
   "outputs": [],
   "source": [
    "fig = px.pie(Recovered_per_country, values=Recovered_per_country['Recovered'], names=Recovered_per_country['Country/Region'],\n",
    "             title='Recovered cases',\n",
    "            )\n",
    "fig.update_traces(textposition='inside', textinfo='percent+label')\n",
    "fig.update_layout(\n",
    "    template='plotly_white'\n",
    ")\n",
    "fig.show()"
   ]
  },
  {
   "cell_type": "code",
   "execution_count": null,
   "metadata": {
    "_kg_hide-input": true,
    "id": "iLq6MSmxwoZB",
    "outputId": "7a7f7182-ab97-4007-8199-b843a7f1487b"
   },
   "outputs": [],
   "source": [
    "fig = go.Figure(data=[go.Bar(\n",
    "            x=Recovered_per_country['Country/Region'][0:10], y=Recovered_per_country['Recovered'][0:10],\n",
    "            text=Recovered_per_country['Recovered'][0:10],\n",
    "            textposition='auto',\n",
    "            marker_color='green',\n",
    "\n",
    "        )])\n",
    "fig.update_layout(\n",
    "    title='Most 10 infected Countries',\n",
    "    xaxis_title=\"Countries\",\n",
    "    yaxis_title=\"Recovered Cases\",\n",
    "    template='plotly_white'\n",
    ")\n",
    "fig.show()\n"
   ]
  },
  {
   "cell_type": "code",
   "execution_count": null,
   "metadata": {
    "_kg_hide-input": true,
    "id": "NQIuTbeNwoZC",
    "outputId": "d20aa60a-fd3c-4480-e7a9-7d5b7fc42e31"
   },
   "outputs": [],
   "source": [
    "fig = go.Figure(data=[go.Scatter(\n",
    "    x=Recovered_per_country['Country/Region'][0:10],\n",
    "    y=Recovered_per_country['Recovered'][0:10],\n",
    "    mode='markers',\n",
    "    marker=dict(\n",
    "        color=100+np.random.randn(500),\n",
    "        size=(Data_per_country['Recovered'][0:10]/20000),\n",
    "        showscale=True\n",
    "        )\n",
    ")])\n",
    "fig.update_layout(\n",
    "    title='Most 10 infected Countries',\n",
    "    xaxis_title=\"Countries\",\n",
    "    yaxis_title=\"Recovered Cases\",\n",
    "    template='plotly_white'\n",
    "\n",
    ")\n",
    "fig.show()"
   ]
  },
  {
   "cell_type": "markdown",
   "metadata": {
    "id": "X6paz_O7woZC"
   },
   "source": [
    "**Active cases in each Country **"
   ]
  },
  {
   "cell_type": "code",
   "execution_count": null,
   "metadata": {
    "_kg_hide-input": true,
    "id": "GuJdk9STwoZD"
   },
   "outputs": [],
   "source": [
    "Active_per_country = Data.groupby([\"Country/Region\"])[\"Active_case\"].sum().reset_index().sort_values(\"Active_case\",ascending=False).reset_index(drop=True)\n"
   ]
  },
  {
   "cell_type": "code",
   "execution_count": null,
   "metadata": {
    "_kg_hide-input": true,
    "id": "tb-MqJr0woZD",
    "outputId": "3d267231-2916-420b-aeb8-086656eaf1f2"
   },
   "outputs": [],
   "source": [
    "headerColor = 'grey'\n",
    "rowEvenColor = 'lightgrey'\n",
    "rowOddColor = 'white'\n",
    "\n",
    "fig = go.Figure(data=[go.Table(\n",
    "  header=dict(\n",
    "    values=['<b>Country</b>','<b>Active Cases</b>'],\n",
    "    line_color='darkslategray',\n",
    "    fill_color=headerColor,\n",
    "    align=['left','center'],\n",
    "    font=dict(color='white', size=12)\n",
    "  ),\n",
    "  cells=dict(\n",
    "    values=[\n",
    "      Active_per_country['Country/Region'],\n",
    "      Active_per_country['Active_case'],\n",
    "      ],\n",
    "    line_color='darkslategray',\n",
    "    # 2-D list of colors for alternating rows\n",
    "    fill_color = [[rowOddColor,rowEvenColor,rowOddColor, rowEvenColor,rowOddColor]*len(Data_per_country)],\n",
    "    align = ['left', 'center'],\n",
    "    font = dict(color = 'darkslategray', size = 11)\n",
    "    ))\n",
    "])\n",
    "fig.update_layout(\n",
    "    title='Active Cases In Each Country',\n",
    ")\n",
    "fig.show()"
   ]
  },
  {
   "cell_type": "code",
   "execution_count": null,
   "metadata": {
    "_kg_hide-input": true,
    "id": "ll3kv7FOwoZE",
    "outputId": "c2b37b26-871d-4915-f91a-20d9725dbae9"
   },
   "outputs": [],
   "source": [
    "fig = go.Figure(data=[go.Bar(\n",
    "            x=Active_per_country['Country/Region'][0:10], y=Active_per_country['Active_case'][0:10],\n",
    "            text=Active_per_country['Active_case'][0:10],\n",
    "           \n",
    "        )])\n",
    "fig.update_layout(\n",
    "    title='Most 10 infected Countries',\n",
    "    xaxis_title=\"Countries\",\n",
    "    yaxis_title=\"Active Cases\",\n",
    "    template='plotly_white'\n",
    ")\n",
    "fig.show()\n"
   ]
  },
  {
   "cell_type": "code",
   "execution_count": null,
   "metadata": {
    "_kg_hide-input": true,
    "id": "KFiIP4f_woZF",
    "outputId": "0681abcb-a4fd-4a9c-f857-189b7661d1e6"
   },
   "outputs": [],
   "source": [
    "fig = go.Figure(data=[go.Scatter(\n",
    "    x=Active_per_country['Country/Region'][0:10],\n",
    "    y=Active_per_country['Active_case'][0:10],\n",
    "    mode='markers',\n",
    "    marker=dict(\n",
    "        color=10+np.random.randn(200),\n",
    "\n",
    "        size=Active_per_country['Active_case'][0:10]/15000,\n",
    "        showscale=True\n",
    "        )\n",
    ")])\n",
    "fig.update_layout(\n",
    "    title='Most 10 infected Countries',\n",
    "    xaxis_title=\"Countries\",\n",
    "    yaxis_title=\"Active Cases\",\n",
    "        template='plotly_white'\n",
    "\n",
    ")\n",
    "fig.show()"
   ]
  },
  {
   "cell_type": "markdown",
   "metadata": {
    "id": "Cs4aUP-IwoZF"
   },
   "source": [
    "**Deaths cases in each Country **"
   ]
  },
  {
   "cell_type": "code",
   "execution_count": null,
   "metadata": {
    "_kg_hide-input": true,
    "id": "BdW4pyuswoZG"
   },
   "outputs": [],
   "source": [
    "Deaths_per_country = Data.groupby([\"Country/Region\"])[\"Deaths\"].sum().reset_index().sort_values(\"Deaths\",ascending=False).reset_index(drop=True)\n"
   ]
  },
  {
   "cell_type": "code",
   "execution_count": null,
   "metadata": {
    "_kg_hide-input": true,
    "id": "H21MKQNMwoZG",
    "outputId": "e5cd817d-1c6d-4c31-b64e-2356dac42c21"
   },
   "outputs": [],
   "source": [
    "headerColor = 'grey'\n",
    "rowEvenColor = 'lightgrey'\n",
    "rowOddColor = 'white'\n",
    "\n",
    "fig = go.Figure(data=[go.Table(\n",
    "  header=dict(\n",
    "    values=['<b>Country</b>','<b>Deaths</b>'],\n",
    "    line_color='darkslategray',\n",
    "    fill_color=headerColor,\n",
    "    align=['left','center'],\n",
    "    font=dict(color='white', size=12)\n",
    "  ),\n",
    "  cells=dict(\n",
    "    values=[\n",
    "      Deaths_per_country['Country/Region'],\n",
    "      Deaths_per_country['Deaths'],\n",
    "      ],\n",
    "    line_color='darkslategray',\n",
    "    # 2-D list of colors for alternating rows\n",
    "    fill_color = [[rowOddColor,rowEvenColor,rowOddColor, rowEvenColor,rowOddColor]*len(Data_per_country)],\n",
    "    align = ['left', 'center'],\n",
    "    font = dict(color = 'darkslategray', size = 11)\n",
    "    ))\n",
    "])\n",
    "fig.update_layout(\n",
    "    title='Deaths In Each Country',\n",
    ")\n",
    "fig.show()"
   ]
  },
  {
   "cell_type": "code",
   "execution_count": null,
   "metadata": {
    "_kg_hide-input": true,
    "id": "GhauPkMlwoZG",
    "outputId": "d6c0eefb-1c06-4cbd-cd33-59497b415b8d"
   },
   "outputs": [],
   "source": [
    "fig = go.Figure(data=[go.Bar(\n",
    "            x=Deaths_per_country['Country/Region'][0:10], y=Deaths_per_country['Deaths'][0:10],\n",
    "            text=Deaths_per_country['Deaths'][0:10],\n",
    "            textposition='auto',\n",
    "            marker_color='black'\n",
    "\n",
    "        )])\n",
    "fig.update_layout(\n",
    "    title='Most 10 infected Countries',\n",
    "    xaxis_title=\"Countries\",\n",
    "    yaxis_title=\"Deaths\",\n",
    "        template='plotly_white'\n",
    "\n",
    ")\n",
    "fig.show()\n",
    "\n"
   ]
  },
  {
   "cell_type": "code",
   "execution_count": null,
   "metadata": {
    "_kg_hide-input": true,
    "id": "yTUSyUXgwoZH",
    "outputId": "578acf5a-a81d-4b3f-90b3-0632c8306293"
   },
   "outputs": [],
   "source": [
    "fig = go.Figure(data=[go.Scatter(\n",
    "    x=Deaths_per_country['Country/Region'][0:10],\n",
    "    y=Deaths_per_country['Deaths'][0:10],\n",
    "    mode='markers',\n",
    "    marker=dict(\n",
    "        color=[145, 140, 135, 130, 125, 120,115,110,105,100],\n",
    "        size=Deaths_per_country['Deaths'][0:10]/1000,\n",
    "        showscale=True\n",
    "        )\n",
    ")])\n",
    "fig.update_layout(\n",
    "    title='Most 10 infected Countries',\n",
    "    xaxis_title=\"Countries\",\n",
    "    yaxis_title=\"Deaths\",\n",
    "        template='plotly_white'\n",
    "\n",
    ")\n",
    "fig.show()"
   ]
  },
  {
   "cell_type": "markdown",
   "metadata": {
    "id": "8ad_tcItwoZI"
   },
   "source": [
    "<a id='chi'></a>\n",
    "#  <font color='red'> **Coronavirus in China** </font>\n",
   ]
  },
  {
   "cell_type": "code",
   "execution_count": null,
   "metadata": {
    "_kg_hide-input": true,
    "id": "8mfXgUxwwoZI",
    "outputId": "b720a83f-a5eb-4c4e-e518-c9b5b3ccb6dc"
   },
   "outputs": [],
   "source": [
    "Data_China = data [(data['Country/Region'] == 'China') ].reset_index(drop=True)\n",
    "Data_China.head()"
   ]
  },
  {
   "cell_type": "markdown",
   "metadata": {
    "id": "Hk1l-ESvwoZI"
   },
   "source": [
    "Get last update in china"
   ]
  },
  {
   "cell_type": "code",
   "execution_count": null,
   "metadata": {
    "_kg_hide-input": true,
    "id": "VZUHOoNlwoZI",
    "outputId": "0bc72206-5a30-4151-b999-a960d82269ff"
   },
   "outputs": [],
   "source": [
    "Data_china_last = Data_China[Data_China['ObservationDate'] == max(Data_China['ObservationDate'])].reset_index()\n",
    "Data_china_last.head()"
   ]
  },
  {
   "cell_type": "markdown",
   "metadata": {
    "id": "91KTJTCFwoZJ"
   },
   "source": [
    "Confirmed cases in every Province/State in china"
   ]
  },
  {
   "cell_type": "code",
   "execution_count": null,
   "metadata": {
    "_kg_hide-input": true,
    "id": "xDrY3a07woZJ",
    "outputId": "40394b9b-cac0-4e5d-d50e-2723cad2c83b"
   },
   "outputs": [],
   "source": [
    "# 取得確診率\n",
    "Data_china_per_state= Data_china_last.groupby([\"Province/State\"])[\"Confirmed\",\"Active_case\",\"Recovered\",\"Deaths\"].sum().reset_index().sort_values(\"Confirmed\",ascending=False).reset_index(drop=True)\n"
   ]
  },
  {
   "cell_type": "code",
   "execution_count": null,
   "metadata": {
    "_kg_hide-input": true,
    "id": "nrAducS7woZJ",
    "outputId": "f185441f-ec51-4a81-abeb-a4bc3b68f6b0"
   },
   "outputs": [],
   "source": [
    "fig = px.pie(Data_china_per_state, values=Data_china_per_state['Confirmed'], names=Data_china_per_state['Province/State'],\n",
    "             title='Confirmed cases in China',\n",
    "            hole=.2)\n",
    "fig.update_traces(textposition='inside', textinfo='percent+label')\n",
    "fig.show()"
   ]
  },
  {
   "cell_type": "code",
   "execution_count": null,
   "metadata": {
    "_kg_hide-input": true,
    "id": "R14YPb0DwoZJ",
    "outputId": "ee7bc3ac-750a-4d09-a786-e3421534fbdd"
   },
   "outputs": [],
   "source": [
    "fig = go.Figure(go.Bar(\n",
    "            x=Data_china_per_state['Active_case'],\n",
    "            y=Data_china_per_state['Province/State'],\n",
    "            orientation='h',\n",
    "            marker_color='#DC3912',))\n",
    "fig.update_layout(\n",
    "    title='Active Cases In Each Province/State',\n",
    "    template='plotly_white',\n",
    "    xaxis_title=\"Active Cases\",\n",
    "    yaxis_title=\"Province/State\",\n",
    ")\n",
    "fig.show()"
   ]
  },
  {
   "cell_type": "code",
   "execution_count": null,
   "metadata": {
    "_kg_hide-input": true,
    "id": "JDKIuwncwoZK",
    "outputId": "95cd4f86-5e22-4a75-8332-d991c43fab88"
   },
   "outputs": [],
   "source": [
    "fig = go.Figure(go.Bar(\n",
    "            x=Data_china_per_state['Recovered'],\n",
    "            y=Data_china_per_state['Province/State'],\n",
    "            orientation='h',\n",
    "            marker_color='green',))\n",
    "fig.update_layout(\n",
    "    title='Active Cases In Each Province/State',\n",
    "    template='plotly_white',\n",
    "    xaxis_title=\"Recovered Cases\",\n",
    "    yaxis_title=\"Province/State\",\n",
    ")\n",
    "fig.show()"
   ]
  },
  {
   "cell_type": "code",
   "execution_count": null,
   "metadata": {
    "_kg_hide-input": true,
    "id": "KwsOJb5YwoZK",
    "outputId": "3aaf116f-dbd7-4b1f-c00a-af478d12ffe8"
   },
   "outputs": [],
   "source": [
    "fig = go.Figure(go.Bar(\n",
    "            x=Data_china_per_state['Deaths'],\n",
    "            y=Data_china_per_state['Province/State'],\n",
    "            orientation='h',\n",
    "            marker_color='black',))\n",
    "fig.update_layout(\n",
    "    title='Deaths In Each Province/State',\n",
    "    template='plotly_white',\n",
    "    xaxis_title=\"Deaths\",\n",
    "    yaxis_title=\"Province/State\",\n",
    ")\n",
    "fig.show()"
   ]
  },
  {
   "cell_type": "code",
   "execution_count": null,
   "metadata": {
    "_kg_hide-input": true,
    "id": "0aSpvxfVwoZL",
    "outputId": "4a7df191-6909-4128-e239-ed491b9c4c59"
   },
   "outputs": [],
   "source": [
    "\n",
    "Data_china_total= Data_china_last.groupby([\"Country/Region\"])[\"Confirmed\",\"Deaths\",\"Recovered\",\"Active_case\"].sum().reset_index().reset_index(drop=True)\n"
   ]
  },
  {
   "cell_type": "code",
   "execution_count": null,
   "metadata": {
    "_kg_hide-input": true,
    "id": "asf7awOlwoZL",
    "outputId": "b5f75aa9-8b32-4aa5-df41-de45509cba39"
   },
   "outputs": [],
   "source": [
    "labels = [\"Active cases\",\"Recovered\",\"Deaths\"]\n",
    "values = Data_china_total.loc[0, [\"Active_case\",\"Recovered\",\"Deaths\"]]\n",
    "df = px.data.tips()\n",
    "fig = px.pie(Data_china_total, values=values, names=labels, color_discrete_sequence=['green','royalblue','darkblue'], hole=0.5)\n",
    "fig.update_layout(\n",
    "    title='Total cases in China : '+str(Data_china_total[\"Confirmed\"][0]),\n",
    ")\n",
    "fig.show()"
   ]
  },
  {
   "cell_type": "markdown",
   "metadata": {
    "id": "evPO7qRMwoZM"
   },
   "source": [
    "Evolution of cases over time in China"
   ]
  },
  {
   "cell_type": "code",
   "execution_count": null,
   "metadata": {
    "_kg_hide-input": true,
    "id": "CCPMtBA5woZM",
    "outputId": "56956a7d-d071-4c8b-aa5c-f9128f5ed06b"
   },
   "outputs": [],
   "source": [
    "Data_china_op= Data_China.groupby([\"ObservationDate\",\"Country/Region\"])[\"Confirmed\",\"Deaths\",\"Recovered\",\"Active_case\"].sum().reset_index().reset_index(drop=True)\n"
   ]
  },
  {
   "cell_type": "code",
   "execution_count": null,
   "metadata": {
    "_kg_hide-input": true,
    "id": "VCpxeZxawoZM",
    "outputId": "4ebb8fb0-0d54-4d7c-e92f-e9c10ad59e67"
   },
   "outputs": [],
   "source": [
    "fig = go.Figure()\n",
    "fig.add_trace(go.Scatter(x=Data_china_op['ObservationDate'], y=Data_china_op['Confirmed'],\n",
    "                    mode='lines',\n",
    "                    name='Confirmed cases'))\n",
    "\n",
    "\n",
    "fig.add_trace(go.Scatter(x=Data_china_op['ObservationDate'], y=Data_china_op['Active_case'],\n",
    "                    mode='lines',\n",
    "                    name='Active cases',line=dict( dash='dot')))\n",
    "fig.add_trace(go.Scatter(x=Data_china_op['ObservationDate'], y=Data_china_op['Deaths'],name='Deaths',\n",
    "                                   marker_color='black',mode='lines',line=dict( dash='dot') ))\n",
    "fig.add_trace(go.Scatter(x=Data_china_op['ObservationDate'], y=Data_china_op['Recovered'],\n",
    "                    mode='lines',\n",
    "                    name='Recovered cases',marker_color='green'))\n",
    "\n",
    "fig.update_layout(\n",
    "    title='Evolution of cases over time in China',\n",
    "        template='plotly_white'\n",
    "\n",
    ")\n",
    "\n",
    "fig.show()\n"
   ]
  },
  {
   "cell_type": "markdown",
   "metadata": {},
   "source": [
    "<a id='us'></a>\n",
   ]
  },
  {
   "cell_type": "code",
   "execution_count": null,
   "metadata": {},
   "outputs": [],
   "source": [
    "Data_US = data [(data['Country/Region'] == 'US') ].reset_index(drop=True)\n"
   ]
  },
  {
   "cell_type": "code",
   "execution_count": null,
   "metadata": {},
   "outputs": [],
   "source": [
    "Data_us_last = Data_US[Data_US['ObservationDate'] == max(Data_US['ObservationDate'])].reset_index()"
   ]
  },
  {
   "cell_type": "code",
   "execution_count": null,
   "metadata": {},
   "outputs": [],
   "source": [
    "Data_us_total= Data_us_last.groupby([\"Country/Region\"])[\"Confirmed\",\"Deaths\",\"Recovered\",\"Active_case\"].sum().reset_index().reset_index(drop=True)\n"
   ]
  },
  {
   "cell_type": "code",
   "execution_count": null,
   "metadata": {},
   "outputs": [],
   "source": [
    "labels = [\"Active cases\",\"Recovered\",\"Deaths\"]\n",
    "values = Data_us_total.loc[0, [\"Active_case\",\"Recovered\",\"Deaths\"]]\n",
    "df = px.data.tips()\n",
    "fig = px.pie(Data_us_total, values=values, names=labels, color_discrete_sequence=['royalblue','darkblue','green'], hole=0.5)\n",
    "fig.update_layout(\n",
    "    title='Total cases in United States : '+str(Data_us_total[\"Confirmed\"][0]),\n",
    ")\n",
    "fig.show()"
   ]
  },
  {
   "cell_type": "markdown",
   "metadata": {},
   "source": [
    "Cases in every Province/State in US\n",
    "\n"
   ]
  },
  {
   "cell_type": "code",
   "execution_count": null,
   "metadata": {},
   "outputs": [],
   "source": [
    "Data_us_per_state= Data_us_last.groupby([\"Province/State\"])[\"Confirmed\",\"Active_case\",\"Deaths\"].sum().reset_index().sort_values(\"Confirmed\",ascending=False).reset_index(drop=True)\n"
   ]
  },
  {
   "cell_type": "code",
   "execution_count": null,
   "metadata": {},
   "outputs": [],
   "source": [
    "fig = px.pie(Data_us_per_state, values=Data_us_per_state['Confirmed'], names=Data_us_per_state['Province/State'],\n",
    "             title='Confirmed cases in United States',\n",
    "            hole=.2)\n",
    "fig.update_traces(textposition='inside', textinfo='percent+label')\n",
    "fig.show()"
   ]
  },
  {
   "cell_type": "code",
   "execution_count": null,
   "metadata": {},
   "outputs": [],
   "source": [
    "fig = px.pie(Data_us_per_state, values=Data_us_per_state['Active_case'], names=Data_us_per_state['Province/State'],\n",
    "             title='Active cases in United States',\n",
    "            hole=.2)\n",
    "fig.update_traces(textposition='inside', textinfo='percent+label')\n",
    "fig.show()"
   ]
  },
  {
   "cell_type": "code",
   "execution_count": null,
   "metadata": {},
   "outputs": [],
   "source": [
    "fig = px.pie(Data_us_per_state, values=Data_us_per_state['Deaths'], names=Data_us_per_state['Province/State'],\n",
    "             title='Deaths in United States',\n",
    "            hole=.2)\n",
    "fig.update_traces(textposition='inside', textinfo='percent+label')\n",
    "fig.show()"
   ]
  },
  {
   "cell_type": "code",
   "execution_count": null,
   "metadata": {},
   "outputs": [],
   "source": [
    "Data_US_op= Data_US.groupby([\"ObservationDate\",\"Country/Region\"])[\"Confirmed\",\"Deaths\",\"Recovered\",\"Active_case\"].sum().reset_index().reset_index(drop=True)\n"
   ]
  },
  {
   "cell_type": "code",
   "execution_count": null,
   "metadata": {},
   "outputs": [],
   "source": [
    "\n",
    "fig = go.Figure()\n",
    "fig.add_trace(go.Scatter(x=Data_US_op.index, y=Data_US_op['Confirmed'],\n",
    "                    mode='lines',\n",
    "                    name='Confirmed cases'))\n",
    "\n",
    "\n",
    "fig.update_layout(\n",
    "    title='Evolution of Confirmed cases over time in US',\n",
    "        template='plotly_white'\n",
    "\n",
    ")\n",
    "\n",
    "fig.show()\n"
   ]
  },
  {
   "cell_type": "code",
   "execution_count": null,
   "metadata": {},
   "outputs": [],
   "source": [
    "fig = go.Figure()\n",
    "\n",
    "fig.add_trace(go.Scatter(x=Data_US_op.index, y=Data_US_op['Active_case'],\n",
    "                    mode='lines',\n",
    "                    name='Active cases',line=dict( dash='dot')))\n",
    "\n",
    "fig.update_layout(\n",
    "    title='Evolution of Acitive cases over time in US',\n",
    "        template='plotly_white'\n",
    "\n",
    ")\n",
    "\n",
    "fig.show()"
   ]
  },
  {
   "cell_type": "code",
   "execution_count": null,
   "metadata": {},
   "outputs": [],
   "source": [
    "fig = go.Figure()\n",
    "\n",
    "fig.add_trace(go.Scatter(x=Data_US_op.index, y=Data_US_op['Recovered'],\n",
    "                    mode='lines',\n",
    "                    name='Recovered cases',marker_color='green'))\n",
    "\n",
    "fig.update_layout(\n",
    "    title='Evolution of Recovered cases over time in US',\n",
    "        template='plotly_white'\n",
    "\n",
    ")\n",
    "\n",
    "fig.show()\n"
   ]
  },
  {
   "cell_type": "code",
   "execution_count": null,
   "metadata": {},
   "outputs": [],
   "source": [
    "fig = go.Figure()\n",
    "\n",
    "fig.add_trace(go.Scatter(x=Data_US_op.index, y=Data_US_op['Deaths'],name='Deaths',\n",
    "                                   marker_color='white',mode='lines',line=dict( dash='dot') ))\n",
    "\n",
    "fig.update_layout(\n",
    "    title='Evolution of Deaths over time in US',\n",
    "        template='plotly_dark'\n",
    "\n",
    ")\n",
    "\n",
    "fig.show()"
   ]
  }
 ],
 "metadata": {
  "colab": {
   "name": "PYTHON資料科學期末專題(一).ipynb",
   "provenance": []
  },
  "kernelspec": {
   "display_name": "Python 3 (ipykernel)",
   "language": "python",
   "name": "python3"
  },
  "language_info": {
   "codemirror_mode": {
    "name": "ipython",
    "version": 3
   },
   "file_extension": ".py",
   "mimetype": "text/x-python",
   "name": "python",
   "nbconvert_exporter": "python",
   "pygments_lexer": "ipython3",
   "version": "3.9.7"
  }
 },
 "nbformat": 4,
 "nbformat_minor": 4
}
